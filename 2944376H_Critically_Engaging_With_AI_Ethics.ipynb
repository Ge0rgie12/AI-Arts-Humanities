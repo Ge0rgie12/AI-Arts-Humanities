{
 "cells": [
  {
   "cell_type": "markdown",
   "id": "c638e9cf",
   "metadata": {},
   "source": [
    "GUID: 2944376H\n",
    "\n",
    "Github respository: https://github.com/Ge0rgie12/AI-Arts-Humanities"
   ]
  },
  {
   "cell_type": "markdown",
   "id": "d1b5028e",
   "metadata": {},
   "source": [
    "# Critically Engaging with AI Ethics\n",
    "\n",
    "In this lab we will be critically engaging with existing datasets that have been used to address ethics in AI. In particular, we will explore the [**Jigsaw Toxic Comment Classification Challenge**](https://www.kaggle.com/datasets/julian3833/jigsaw-toxic-comment-classification-challenge). This challenge brought to light bias in the data that sparked the [Jigsaw Unintended Bias in Toxicity Classification Challenge](https://www.kaggle.com/c/jigsaw-unintended-bias-in-toxicity-classification). \n",
    "\n",
    "In this lab, we will dig into the dataset ourselves to explore the biases. We will further explore other datasets to expand our thinking about bias and fairness in AI in relation to aspects such as demography and equal opportunity as well as performance and group unawareness of the model. We will learn more about that in the tutorial below.\n",
    "\n",
    "# Task 1: README!\n",
    "\n",
    "This week, coding activity will be minimal, if any. However, as always, you will be expected to incorporate your analysis, thoughts and discussions into your notebooks as markdown cells, so I recommend you start up your Jupyter notebook in advance. As always, **remember**:\n",
    "\n",
    "- To ensure you have all the necessary Python libraries/packages for running code you are recommended to use your environment set up on the **Glasgow Anywhere Student Desktop**.\n",
    "- Start anaconda, and launch Jupyter Notebook from within Anaconda**. If you run Jupyter Notebook without going through Anaconda, you might not have access to the packages installed on Anaconda.\n",
    "- If you run Anaconda or Jupyter Notebook on a local lab computer, there is no guarantee that these will work properly, that the packages will be available, or that you will have permission to install the extra packages yourself.\n",
    "- You can set up Anaconda on your own computer with the necessary libraries/packages. Please check how to set up a new environement in Anaconda and review the minimum list of Python libraries/packages, all discussed in Week 4 lab.\n",
    "- We strongly recommend that you save your notebooks in the folder you made in Week 1 exercise, which should have been created in the University of Glasgow One Drive - **do not confuse this with personal and other organisational One Drives**. Saving a copy of your notebooks on the University One Drive ensures that it is backed up (the first principles of digital preservation and information mnagement).\n",
    "- When you are on the Remote desktop, the `University of Glasgow One Drive` should be visible in the home directory of the Jupyter Notebook. Other machines may require additional set up and/or navigation for One Drive to be directly accessible from Jupyter Notebook.\n"
   ]
  },
  {
   "cell_type": "markdown",
   "id": "2ba3a8e5",
   "metadata": {},
   "source": [
    "# Task 2: Identifying Bias\n",
    "\n",
    "This week we will make use of one of the [Kaggle](https://www.kaggle.com) tutorials and their associated notebooks to learn how to identify different types of bias. Biases can creep in at any stage of the AI task, from data collection methods, how we split/organise the test set, different algorithms, how the results are interpreted and deployed. Some of these topics have been extensively discussed and as a response, Kaggle has developed a course on AI ethics:\n",
    "\n",
    "- Navigate to the [Kaggle tutorial on Identifying Bias in AI](https://www.kaggle.com/code/alexisbcook/identifying-bias-in-ai/tutorial). \n",
    "- In this section we will explore the [Jigsaw Toxic Comment Classification Challenge](https://www.kaggle.com/datasets/julian3833/jigsaw-toxic-comment-classification-challenge) to discover different types of biases that might emerge in the dataset. \n",
    "\n",
    "#### Task 2-a: Understanding the Scope of Bias\n",
    "\n",
    "Read through the first page of the [Kaggle tutorial on Identifying Bias in AI] to understand the scope of biases discussed at Kaggle.\n",
    "- How many types of biases are described on the page? \n",
    "- Which type of bias did you know about already before this course and which type was new to you? \n",
    "- Can you think of any others? Create a markdown cell below to discuss your thoughts on these questions.\n",
    "\n",
    "Note that the biases discussed in the tutorial are not an exhaustive list. Recall that biases can exist across the entire machine learning pipeline. \n",
    "\n",
    "- Scroll down to the end of the Kaggle tutorial page and click on the link to the exercise to work directly with a model and explore the data.** \n",
    "\n",
    "#### Task 2-b: Run through the tutorial. Take selected screenshorts of your activity while doing the tutorial.\n",
    "\n",
    "- Discuss with your peer group, your findings about the biases in the data, including types of biases. \n",
    "- Demonstrate your discussion with examples and screenshots of your activity on the tutorial. Present these in your own notebook.\n",
    "\n",
    "Modify the markdown cell below to address the Tasks 2-a and 2-b."
   ]
  },
  {
   "cell_type": "markdown",
   "id": "bf15d2f9",
   "metadata": {},
   "source": [
    "**Markdown for discussing bias**\n",
    "\n",
    "#### Task 2-a:\n",
    "Six types of bias are being described (historical bias, representation bias, measurement bias, aggregation bias, evaluation bias, deployment bias). Of these, the aggregation bias was new to me, because it is, as described in the tutorial, not as common. But as all forms of bias it is still important to keep this one in mind. \n",
    "Another form of bias could for example occur in the framing of questions when collecting data. For example questions in survey that are framed in a certain way so that one answer is more likely than another.\n",
    "All in all I think it is very important to keep all these forms of bias in mind. Furthermore actively trying to prevent them is important in order to create ethical machine learning models. To be able to do so, education about bias is very important in all fields that have anythings to to with machine learning and AI.\n",
    "\n",
    "#### Task 2-b:\n",
    "Keggle tutorial tasks:\n",
    "\n",
    "First the model seems to not be able to classifie positive comments using negative words as not toxic. For example when commenting \"this is freaking great\" using some kind of slang to enhance the meaning of great, which is still a compliment, the model suddenly classifies it as toxic. This could show a bias towards slang language and can be seen in the following picture \n",
    "![image tried out example](screenshots/Comment_1.png) this example is refering to exercise three in the tutorial.\n",
    "The later hypothetical example has clear signs of racism in the classification of the data, since black and muslim are both being classified as toxic, even though they should not. This is refering to exercise four in the tutorial.\n",
    "The following examples in the kaggle tutorial https://www.kaggle.com/code/alexisbcook/identifying-bias-in-ai/tutorial introduced historical bias because the world (in this case the online community) already has this biased state - exercise five -  and measurement bias (beacause translations are often not fully accurate) - exercise six. Exercise six could also introduce aggregation bias.\n",
    "In the last example, in exercise 7, representation bias is implemented into the model, since the model was trained on data very differently to the actual use, in this case two different countries. \n"
   ]
  },
  {
   "cell_type": "markdown",
   "id": "f88429e7",
   "metadata": {},
   "source": [
    "### Sources:\n",
    "The Source for the screenshots in Task 1 is the \"Identifying Bias in AI\" tutorial on kaggle by Alexis Cook and more specific they are from the notebook linked at the end of the tutorial. \n",
    "Link to tutorial: https://www.kaggle.com/code/alexisbcook/identifying-bias-in-ai/tutorial"
   ]
  },
  {
   "cell_type": "markdown",
   "id": "45b38fa2",
   "metadata": {},
   "source": [
    "# Task 3: Large Language Models and Bias: Word Embedding Demo\n",
    "\n",
    "Go to the [embedding projector at tensorflow.org](http://projector.tensorflow.org/). This may take some time to load so be patient! There is a lot of information being visualised. This will take especially long if you select \"Word2Vec All\" as your dataset. The projector provides a visualisation of the langauge language model called **Word2Vec**.\n",
    "\n",
    "This tool also provides the option of visualising the organisation of hand written digits from the MNIST dataset to see how data representations of the digits are clustered together or not. There is also the option of visualising the `iris` dataset from `scikit-learn` with respect to their categories. Feel free to explore these as well if you like.\n",
    "\n",
    "For the current exercise, we will concentrate on exploring the relationships between the words in the **Word2Vec** model. First, select **Word2Vec 10K** from the drop down menu (top lefthand side). This is a reduced version of **Word2Vec All**. You can search for words by submitting them in the search box on the right hand side. \n",
    "\n",
    "#### Task 3.1: Initial exploration of words and relationships\n",
    "\n",
    "- Type `apple` and click on `Isolate 101 ppints`. This reduces the noise. Note how juice, fruit, wine are closer together than macintosh, computers and atari. \n",
    "- Try also words like `silver` and `sound`. What are your observations. Does it seem like words related to each other are sitting closer to each other?\n",
    "\n",
    "#### Task 3.2: Exploring \"Word2Vec All\" for patterns\n",
    "\n",
    "- Try to load \"Word2Vec All\" dataset if you can (this may take a while so be patient!) and explore the word `engineer`, `drummer`or any other occupation - what do you find? \n",
    "- Do you think perhaps there are concerns of gender bias? If so, how? If not, why not? Discuss it with our peer group and present the results in a your notebook.\n",
    "- Why not make some screenshots to embed into your notebook along with your comment? This could make it more understandable to a broader audience. \n",
    "- Do not forget to include attribution to the authors of the Projector demo.\n",
    "\n",
    "Modify the markdown cell below to present your thoughts."
   ]
  },
  {
   "cell_type": "markdown",
   "id": "e0317fe1",
   "metadata": {},
   "source": [
    "**Markdown cell for discussing large language models**\n",
    "\n",
    "#### Task 3-1:\n",
    "Word related to each other seem to be close together and not at the same time. It very much depends on the interptretation of how words are related to each other. For example the word sound is very close to the word listening but the word song is quite far away, even though it also very much relates to sound.\n",
    "\n",
    "#### Task 3-2:\n",
    "Occupations show up in relation to other occupations. Around them are other occupations often from similar fields, for example the music or creative industry. When putting in the female form of an occupation (for example actress compared to actor) both words are quite close together. But even when putting in actress, the occupations around it appear in the male form. Other than that, a direct bias cannot be proven, but since this world often has a gender bias, it is possible that there is a historical bias in the data. \n",
    "![image actor vector](screenshots/Actor_vector.png) this shows the result for putting in actor into the search field.\n",
    "![image actress vector](screenshots/Actress_vector.png)while this shows the result for actress, where it can be seen that other occupations surround the word and then, when zooming out a little more, male names appear but no female coded names are to be found. "
   ]
  },
  {
   "cell_type": "markdown",
   "id": "45ac929e",
   "metadata": {},
   "source": [
    "### Sources: \n",
    "\n",
    "The screenshots for task 3 were taken from the Embedding Projector at tensorflow.org. Link to website: http://projector.tensorflow.org"
   ]
  },
  {
   "cell_type": "markdown",
   "id": "09ffeb50",
   "metadata": {},
   "source": [
    "# Task 4: Thinking about AI Fairness \n",
    "\n",
    "So we now know that AI models (e.g. large language models) can be biased. We saw that with the embedding projector already. We discussed in the previous exercise about the machine learning pipeline, how the assessment of datasets can be crucicial to deciding the suitability of deploying AI in the real world. This is where data connects to questions of fairness.\n",
    "\n",
    "- Navigate to the [Kaggle Tutorial on AI Fairness](https://www.kaggle.com/code/alexisbcook/ai-fairness). \n",
    "\n",
    "#### Task 4-a: Topics in AI Fairness\n",
    "Read through the page to understand the scope of the fairness criteria discussed at Kaggle. Just as we dicussed with bias, the fairness criteria discussed at Kaggle is not exhaustive. \n",
    "- How many criteria are described on the page? \n",
    "- Which criteria did you know about already before this course and which, if any, was new to you? \n",
    "- Can you think of any other criteria? Create a markdown cell and note down your discussion with your peer group on these questions.\n",
    "\n",
    "#### Task 4-b: AI fairness in the context of the credit card dataset. \n",
    "Scroll down to the end of [the page on AI fairness](https://www.kaggle.com/code/alexisbcook/ai-fairness) to find a link to another interactive exercise to run code in a notebook using credit card application data.\n",
    "- Run the tutorial, while taking selected screenshots.\n",
    "- Discuss your findings with your peer group.\n",
    "- Note down the key points of your activity and discussion in your notebook using the example and screenshots of your activity on the tutorial.\n",
    "\n",
    "\n",
    "Report the results of the activity and discussion by modifying the markdown cell below."
   ]
  },
  {
   "cell_type": "markdown",
   "id": "493fbafc",
   "metadata": {},
   "source": [
    "**Markdown cell for discussing fairness**\n",
    "\n",
    "#### Task 4-a:\n",
    "There are four AI fairness aspects mentioned in the kaggle tutorial, namely they are demographic parity/statistical parity, equal opportunity, equal accuracy, Group unaware / \"Fairness through unawareness\". I was already aware of all these, because of a psychology course i have been taking. The fairness criteria are very similar to criteria used in certain psychological experiments and surveys. Still it is interesting and new to consider them in relation to AI. Another criteria is individual fairness, which means that \"a predictor is fair if it produces similar outputs for similar individuals\" (Gajane and Pechenizkiy, 2018) this can be found in the article https://arxiv.org/pdf/1710.03184.pdf, which also provides further information and is a good point to start investigating this topic in more depth. (the full source can be found at the end of the task)\n",
    "\n",
    "\n",
    "#### Task 4-b:\n",
    "The activity mainly consisted of exploring different forms of fairness - or rather the lack of fairness in a model, as can be found in the first picture ![description of fairness criteria and unfairness in example](screenshots/fairness_example.png)\n",
    "\n",
    "This is shown by the output of the model of the approval rate for the two groups A and B, which differ quite a bit and therefore are subject ot bias, as can be seen in the following screenshot from the kaggle tutorial\n",
    "![output of model; approval rates for groups](screenshots/approval_rates.png)\n",
    "\n",
    "All in all the thing that stood out most was that when trying to achieve fairness in one of the criteria, this can lead to the lack of fairness in other criteria, even where there had not been unfairness before. When making changes to the model, the approval rates can change a lot, which might make things fairer in one point, but more unfair in another. The changes approval rates of a changed model can be found in the following: \n",
    "![changes in approval rates](screenshots/change_approval_rates.png)\n",
    "\n",
    "This is also described in the following screenshots, with the first referring directly to the model shown above and the second being an additional description.\n",
    "![description of fairness change referring to change approval rates](screenshots/change_in_fairness_2.png)\n",
    "![additional description of fairness change in different case](screenshots/change_in_fairness.png)"
   ]
  },
  {
   "cell_type": "markdown",
   "id": "47eff9bd",
   "metadata": {},
   "source": [
    "### Sources:\n",
    "Gajane,Pratik and Pechenizkiy, Mykola: \"On Formalizing Fairness in Prediction with Machine Learning\", 28 May 2018, arXiv:1710.03184v3 [cs.LG], \n",
    "https://doi.org/10.48550/arXiv.1710.03184. \n",
    "\n",
    "Link to article: https://arxiv.org/pdf/1710.03184.pdf\n",
    "\n",
    "The Source for the screenshots in Task 4 is the \"AI Fairness\" tutorial on kaggle by Alexis Cook and more specific they are from the notebook linked at the end of the tutorial. \n",
    "\n",
    "Link to tutorial: https://www.kaggle.com/code/alexisbcook/ai-fairness"
   ]
  },
  {
   "cell_type": "markdown",
   "id": "1264c12a",
   "metadata": {},
   "source": [
    "# Task 5: AI and Explainability\n",
    "\n",
    "In this section we will explore the reasons behind decisions that AI makes. While this is really hard to know, there are some approaches developed to know which features in your data (e.g. median_income in the housing dataset we used before) played a more important role than others in determining how your machine learning model performs. One of the many approaches for assessing feature importance is **permutation importance**.\n",
    "\n",
    "The idea behind permutation importance is simple. Features are what you might consider the columns in a tabulated dataset, such as that might be found in a spreadsheet. \n",
    "- The idea of permutation importance is that a feature is important if the performance of your AI program gets messed up by **shuffling** or **permuting** the order of values in that feature column for the entries in your test data. \n",
    "- The more your AI performance gets messed up in response to the shuffling, the more likely the feature was important for the AI model.\n",
    " \n",
    "To make this idea more concrete, read through the page at the [Tutorial on Permutation Importance](https://www.kaggle.com/code/dansbecker/permutation-importance) at Kaggle. The page describes an example to \"predict a person's height when they become 20 years old, using data that is available at age 10\". \n",
    "\n",
    "The page invites you to work with code to calculate the permutation importance of features for an example in football to predict \"whether a soccer/football team will have the \"Man of the Game\" winner based on the team's statistics\". Scroll down to the end of the page to the section \"Your Turn\" where you will find a link to an exercise to try it yourself to calculate the importance of features in a Taxi Fare Prediction dataset.\n",
    "\n",
    "#### Task 5-a: Carry out the exercise, taking screenshots of the exercise as you make progress. Using screen shots and text in your notebook, answer the following question: \n",
    "1. How many features are in this dataset? \n",
    "2. Were the results of doing the exercise contrary to intuition? If yes, why? If no, why not? \n",
    "3. Discuss your results with your peer group.\n",
    "4. Include your screenshots, text, and discyssions in a markdown cell.\n",
    "\n",
    "#### Task 5-b: Reflecting on Permutation Importance.\n",
    "\n",
    "- Do you think the permutation importance is a reasonable measure of feature importance? \n",
    "- Can you think of any examples where this would have issues? \n",
    "- Discuss these questions in your notebook - describe your example, if you have any, and discuss the issues. "
   ]
  },
  {
   "cell_type": "markdown",
   "id": "9d0149df",
   "metadata": {},
   "source": [
    "#### Task 5-a:\n",
    "1. there are 5 base features defined in the dataset, while the dataset itself has the additional features key, fare_amount and pickup_datetime\n",
    "the base features can be found in the following picture: \n",
    "![base features](screenshots/base_features.png)\n",
    "And the head of the dataset, which contains the additionals features, is shown in the following:\n",
    "![head of dataset](screenshots/head_dataset.png)\n",
    "2. The result, namely that latitude matters more than longitude, which can be found in the following picture ![weights of features](screenshots/weight_features.png) was surprising to me, since I had not considered that there might be differences in the direction of travel. I had the expection, that both would have the same importance. \n",
    "\n",
    "#### Task 5-b:\n",
    "I think permutation importance is a reasonable measure of feature importance because if nothing changes when shuffling the values, the tie between the values and other values of the row is not important and thereby the feature is not as useful to make an informed statement about the data. One example where this might be a problem are True and False values or zeroes and ones as values since shuffling them might not change the performance of the AI itself, but changes the outcome when testing new data. This could be a huge problem for example when dealing with medical data."
   ]
  },
  {
   "cell_type": "markdown",
   "id": "18ba6184",
   "metadata": {},
   "source": [
    "### Sources:\n",
    "\n",
    "The Source for the screenshots in Task 5 is the \"Permutation Importance\" tutorial on kaggle by DanB and Alexis Cook and more specific they are from the notebook linked at the end of the tutorial. \n",
    "Link to tutorial: https://www.kaggle.com/code/dansbecker/permutation-importance"
   ]
  },
  {
   "cell_type": "markdown",
   "id": "44978d66",
   "metadata": {},
   "source": [
    "# Task 6: Further Activities for Broader Discussion\n",
    "\n",
    "Apart from the [**Jigsaw Toxic Comment Classification Challenge**](https://www.kaggle.com/datasets/julian3833/jigsaw-toxic-comment-classification-challenge) another challenge you might explore is the [**Inclusive Images Challenge**](https://www.kaggle.com/c/inclusive-images-challenge). Read at least one of the following.\n",
    "\n",
    "- The [announcement of the Inclusive Images Challenge made by Google AI](https://ai.googleblog.com/2018/09/introducing-inclusive-images-competition.html). Explore the [Open Images Dataset V7](https://storage.googleapis.com/openimages/web/index.html) - this is where the Inclusive Images Challenge dataset comes from.\n",
    "- Article summarising [the Inclusive Image Challenge at NeurIPS 2018 conference](https://link.springer.com/chapter/10.1007/978-3-030-29135-8_6)\n",
    "- Explore the [recent controversy](https://www.theverge.com/21298762/face-depixelizer-ai-machine-learning-tool-pulse-stylegan-obama-bias) about bias in relation to [PULSE](https://paperswithcode.com/method/pulse) which, among other things, sharpens blurry images.\n",
    "- Given your exploration in the sections above, what problems might you foresee with [these tasks attempted with the Jigsaw dataset on toxicity](https://link.springer.com/chapter/10.1007/978-981-33-4367-2_81)?\n",
    "\n",
    "There are many concepts (e.g. model cards and datasheets) omitted in discussion above about AI and Ethics. To acquire a foundational knowledge of transparency, accessibility and fairness:\n",
    "\n",
    "- You are welcome to carry out the rest of the [Kaggle course on Intro to AI Ethics](https://www.kaggle.com/learn/intro-to-ai-ethics) to see some ideas from the Kaggle community. \n",
    "- You are welcome to carry out the rest of the [Kaggle tutorial on explainability]( https://www.kaggle.com/learn/machine-learning-explainability) but these are a bit more technical in nature.\n",
    "- "
   ]
  },
  {
   "cell_type": "markdown",
   "id": "ca51345e",
   "metadata": {},
   "source": [
    "# Summary\n",
    "\n",
    "In this lab, you explored a number of areas that pose challenges with regard to AI and ethics: bias, fairness and explainability. This, and other topics in reposible AI development, is currently at the forefront of the AI landscape. \n",
    "\n",
    "The discussions coming up in the lectures on applications of AI (to be presented by guest lecturers in the weeks to come) will undoubtedly intersect with these concerns. In preparation, you might think, in advance, about **what distinctive questions about ethics might arise in AI applications in law, language, finance, archives, generative AI and beyond**.   "
   ]
  }
 ],
 "metadata": {
  "kernelspec": {
   "display_name": "Python 3 (ipykernel)",
   "language": "python",
   "name": "python3"
  },
  "language_info": {
   "codemirror_mode": {
    "name": "ipython",
    "version": 3
   },
   "file_extension": ".py",
   "mimetype": "text/x-python",
   "name": "python",
   "nbconvert_exporter": "python",
   "pygments_lexer": "ipython3",
   "version": "3.11.3"
  }
 },
 "nbformat": 4,
 "nbformat_minor": 5
}
