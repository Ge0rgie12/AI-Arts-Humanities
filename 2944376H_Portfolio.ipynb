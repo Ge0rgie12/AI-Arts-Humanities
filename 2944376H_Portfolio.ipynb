{
 "cells": [
  {
   "cell_type": "markdown",
   "id": "43fd1227",
   "metadata": {},
   "source": [
    "GUID: 2944376H\n",
    "\n",
    "Github respository: https://github.com/Ge0rgie12/AI-Arts-Humanities"
   ]
  },
  {
   "cell_type": "markdown",
   "id": "6b56f884",
   "metadata": {},
   "source": [
    "# Week 1: Getting started with Anaconda, Jupyter Notebook and Python\n",
    "\n",
    "Exercise to get started with python and familiarize myself with jupyter notebook\n",
    "\n",
    "### a) Why you chose to join this course – for, motivation, vision, aspiration?\n",
    "\n",
    "Since starting with programming about two years ago, I have been interested in lots of things to do with programming, but especially AI. AI is becoming more and more important in everyday life and lots of discussions are being held about it. While having tried out some applications myself, for example ChatGPT and Midjourney, I am interested to learn how AIs really work and how the technology behind them functions. Furthermore, I have already taken a seminar on AI in general and would like to broaded my knowledge on the topic. Additionally I think especially for the creative sector, AI is a bringin on quite some changes, which is why I chose to take this seminar. \n",
    "\n",
    "### b) Prior experience, if any, you have with AI and/or Python, and, \n",
    "\n",
    "I have dabbled in AI, and have some experience in programming with Python, including building a website (which also contained html, CSS and some java script) and working a lot with data, for example data preparation for machine learning.\n",
    "\n",
    "### c) What you expect to learn from the course (aim for 3-5 bullet points)\n",
    "- a broader knowledge about AI\n",
    "- a better understanding of the role of AI in the creative sector\n",
    "- increase my coding skills in python and my understanding of code written by others\n",
    "\n",
    "Notebook cheatsheet: https://www.ibm.com/docs/en/watson-studio-local/1.2.3?topic=notebooks-markdown-jupyter-cheatsheet"
   ]
  },
  {
   "cell_type": "markdown",
   "id": "eee1bd6f",
   "metadata": {},
   "source": [
    "### Your First Coding Cell: Hello World"
   ]
  },
  {
   "cell_type": "markdown",
   "id": "a942bcd6",
   "metadata": {},
   "source": [
    "#### Task 1-4: Create a code cell with a very simple Python code "
   ]
  },
  {
   "cell_type": "code",
   "execution_count": null,
   "id": "0817b8d9",
   "metadata": {},
   "outputs": [],
   "source": [
    "print(\"Hello, World!\")\n",
    "\n",
    "# use variables:\n",
    "\n",
    "message = \"Hello, World!\"\n",
    "print(message)"
   ]
  },
  {
   "cell_type": "markdown",
   "id": "156b7106",
   "metadata": {},
   "source": [
    "Note: same output for both versions (use output to check for accuracy)"
   ]
  },
  {
   "cell_type": "markdown",
   "id": "5a8b10f0",
   "metadata": {},
   "source": [
    "#### Task 1-5: Use the Code Above to Answer the Following Questions "
   ]
  },
  {
   "cell_type": "code",
   "execution_count": null,
   "id": "a323d0b1",
   "metadata": {},
   "outputs": [],
   "source": [
    "message1 = \"Welcome to my portfolio\"\n",
    "\n",
    "print(message1)\n",
    "\n",
    "print(message1+message1) # --> it adds the message a second time (with no space in between)\n",
    "\n",
    "print(message1*3) # --> it prints the message three times (again with now spaces)\n",
    "\n",
    "print(message1[0]) # --> it prints the first letter; changing the number changes the letter --> 1 is the second letter, 2 the third and so on "
   ]
  },
  {
   "cell_type": "markdown",
   "id": "e4b36558",
   "metadata": {},
   "source": [
    "Note: in this case message is a sensible variable, but for more complex projects, it might be useful to use a more specific name so people looking at the code know exactly what the purpose of the variable is just from seeing its name.\n",
    "To try out implementing new names, the name of the message has been changed to message1 (maybe it is useful for a project to count the messages to not get confused). For the print statement to work, the variable name also needs to be changed accordingly, as shown above."
   ]
  },
  {
   "cell_type": "markdown",
   "id": "f87ac73a",
   "metadata": {},
   "source": [
    "### Displaying a YouTube Video in Jupyter Notebook"
   ]
  },
  {
   "cell_type": "markdown",
   "id": "5ba43d58",
   "metadata": {},
   "source": [
    "#### Task 1-6: A first look at importing library and packages"
   ]
  },
  {
   "cell_type": "code",
   "execution_count": null,
   "id": "11e41770",
   "metadata": {},
   "outputs": [],
   "source": [
    "from IPython.display import*"
   ]
  },
  {
   "cell_type": "markdown",
   "id": "a8fa75b2",
   "metadata": {},
   "source": [
    "Note: the above code imports everyhing from the IPython.display library. The * symbol has the function to show that everything from the library is being imported, and not only parts of it."
   ]
  },
  {
   "cell_type": "markdown",
   "id": "b08ea860",
   "metadata": {},
   "source": [
    "#### Task 1-7: Find and Display a YouTube Video"
   ]
  },
  {
   "cell_type": "code",
   "execution_count": null,
   "id": "15d146e5",
   "metadata": {},
   "outputs": [],
   "source": [
    "YouTubeVideo(\"6lvyX-1IeYM?\")"
   ]
  },
  {
   "cell_type": "markdown",
   "id": "3a2ab09a",
   "metadata": {},
   "source": [
    "Note: Source of the video is\n",
    "\n",
    "Good Feeling by Roa / roa_music1031   \n",
    "Creative Commons — Attribution 3.0 Unported — CC BY 3.0\n",
    "Free Download / Stream: https://bit.ly/-good-feeling\n",
    "Music promoted by Audio Library   \n",
    " • Good Feeling – Roa (No Copyright Music)  \n",
    " \n",
    " and it is free to use under a private/educational and even commercial licence.\n",
    " \n",
    "The video is fitting the other content of the notebook as it refers to the good feeling you get when your code is working and making sense :) "
   ]
  },
  {
   "cell_type": "markdown",
   "id": "bc5f8b37",
   "metadata": {},
   "source": [
    "### Understanding a Program: Parsing and Reading"
   ]
  },
  {
   "cell_type": "markdown",
   "id": "a2a98ce8",
   "metadata": {},
   "source": [
    "#### Optional Task 1-8 and 1-9: Run the code below and annotate each line with a comment "
   ]
  },
  {
   "cell_type": "code",
   "execution_count": null,
   "id": "a7239363",
   "metadata": {},
   "outputs": [],
   "source": [
    "import webbrowser  # imports a library\n",
    "import requests # imports a library\n",
    "\n",
    "print(\"Shall we hunt down an old website?\") # print out a statement\n",
    "site = input(\"Type a website URL: \") # assigning a variable; ask for user input in form of a website URL\n",
    "era = input(\"Type year, month, and date, e.g., 20150613: \") # assigning a variable; ask for user input in form of an era \n",
    "url = \"http://archive.org/wayback/available?url=%s&timestamp=%s\" % (site, era) # assigning a variable\n",
    "response = requests.get(url) # assigning a variable;\n",
    "data = response.json() # assigning a variable;\n",
    "try: # conditional \n",
    "    old_site = data[\"archived_snapshots\"][\"closest\"][\"url\"] # assigning a variable;\n",
    "    print(\"Found this copy: \", old_site) # print out a statement\n",
    "    print(\"It should appear in your browser.\") # print a statement\n",
    "    webbrowser.open(old_site) # open website\n",
    "except: # exception of try not possible \n",
    "    print(\"Sorry, could not find the site.\") # print a statement\n"
   ]
  },
  {
   "cell_type": "markdown",
   "id": "c74aa387",
   "metadata": {},
   "source": [
    "Note: the programme imports two libraries, assigns six variables and included ten strings. Furthermore there are three print statements in the programme. \n",
    "The output itself starts with the question \"Shall we hunt down an old website?\" before asking the user to \"Type in a website URL:\" after which the user can type in the URL of a website. Next, the statement \"Type year, month, and date, e.g., 20150613:\" appears, after which the user can type in the data. After that the programme either prints the statement \"Found this copy: \", and adds the url of the old website and then the print statement \"It should appear in your browser.\", or, if the site cannot be found, it prints the statement \"Sorry, could not find the site.\""
   ]
  },
  {
   "cell_type": "markdown",
   "id": "f7214601",
   "metadata": {},
   "source": [
    "# Week 2 Exploring Data in Multiple Ways"
   ]
  },
  {
   "cell_type": "markdown",
   "id": "feb68cea",
   "metadata": {},
   "source": [
    "### Exploring Multimedia and Scikit-Learn Datasets\n"
   ]
  },
  {
   "cell_type": "markdown",
   "id": "5be01ff1",
   "metadata": {},
   "source": [
    "#### Task 3-1: Using IPython.display to display images and audio"
   ]
  },
  {
   "cell_type": "code",
   "execution_count": null,
   "id": "ca24f803",
   "metadata": {},
   "outputs": [],
   "source": [
    "from IPython.display import Image"
   ]
  },
  {
   "cell_type": "code",
   "execution_count": null,
   "id": "971261c3",
   "metadata": {},
   "outputs": [],
   "source": [
    "Image (\"picture1.jpg\") "
   ]
  },
  {
   "cell_type": "code",
   "execution_count": null,
   "id": "d515c62d",
   "metadata": {},
   "outputs": [],
   "source": [
    "from IPython.display import Audio"
   ]
  },
  {
   "cell_type": "code",
   "execution_count": null,
   "id": "f64f6eed",
   "metadata": {},
   "outputs": [],
   "source": [
    "Audio(\"audio1.mid\")"
   ]
  },
  {
   "cell_type": "code",
   "execution_count": null,
   "id": "9aca3390",
   "metadata": {},
   "outputs": [],
   "source": [
    "Audio(\"audio2.ogg\") # owned by Artoffuge Mehmet Okonsar, for further information refer to Source information below \n"
   ]
  },
  {
   "cell_type": "markdown",
   "id": "126f0536",
   "metadata": {},
   "source": [
    "Note:\n",
    "\n",
    "The picture and both audios display, but only the second one (audio2) outputs sound. But for this to be possible, the notebook needs to be run in a specific browser, like Google Chrome, and is not compartible with all browers - Safari is for example causing an issue - meaning that the use is very restricted. \n"
   ]
  },
  {
   "cell_type": "markdown",
   "id": "2bfc64c3",
   "metadata": {},
   "source": [
    "#### Source for file audio2.ogg: \n",
    "Owned by Artoffuge Mehmet Okonsar\n",
    "\n",
    "This file is licensed under the Creative Commons Attribution-Share Alike 3.0 Unported license.\n",
    "\n",
    "You are free: \n",
    "- to share - to copy, distribute and transmit the work\n",
    "- to remix - to adapt the work\n",
    "\n",
    "Under the following conditions: \n",
    "- attribution – You must give appropriate credit, provide a link to the license, and indicate if changes were made. You may do so in any reasonable manner, but not in any way that suggests the licensor endorses you or your use.\n",
    "- share alike – If you remix, transform, or build upon the material, you must distribute your contributions under the same or compatible license as the original.\n",
    "\n",
    "The original ogg file was found at the url: \n",
    "https://en.wikipedia.org/wiki/File:GoldbergVariations_MehmetOkonsar-1of3_Var1to10.ogg\n"
   ]
  },
  {
   "cell_type": "markdown",
   "id": "bc3a422d",
   "metadata": {},
   "source": [
    "#### Task 3-2: Using the matplotlib library to look at picture as numerical data\n"
   ]
  },
  {
   "cell_type": "code",
   "execution_count": null,
   "id": "81e98f8e",
   "metadata": {},
   "outputs": [],
   "source": [
    "from matplotlib import pyplot # importing the library"
   ]
  },
  {
   "cell_type": "code",
   "execution_count": null,
   "id": "18964127",
   "metadata": {},
   "outputs": [],
   "source": [
    "test_picture = pyplot.imread(\"picture1.jpg\")\n",
    "print(\"Numpy array pf the image is: \", test_picture)\n",
    "pyplot.imshow(test_picture)"
   ]
  },
  {
   "cell_type": "markdown",
   "id": "09bcd8b9",
   "metadata": {},
   "source": [
    "In the following example, values in the numpy array will be directly manipulated to observe the influence they have on the output."
   ]
  },
  {
   "cell_type": "code",
   "execution_count": null,
   "id": "d2763bfb",
   "metadata": {},
   "outputs": [],
   "source": [
    "test_picture_filtered = 2*test_picture/3\n",
    "pyplot.imshow(test_picture_filtered)"
   ]
  },
  {
   "cell_type": "markdown",
   "id": "8883cd2f",
   "metadata": {},
   "source": [
    "Note: the result is very different from the original picture. Only blue, yellow and magenta dots are to be seen in the frame and one can vaguely see the shape of the hedgehog, probably only because one already know the original picture. The picture only consists of primary colours now, all the colours in between have vanished. This results in only the vague shape of the picture being visible. The outline is still in the same place as in the original though, meaning that only the colors have been changed and not the position of the picture. Furthermore there is a lot more white space in this version of the picture, compared to the original. "
   ]
  },
  {
   "cell_type": "markdown",
   "id": "e4853df4",
   "metadata": {},
   "source": [
    "#### Task 3-3: Exploring scikit-learn (a.k.a sklearn)"
   ]
  },
  {
   "cell_type": "markdown",
   "id": "584c2c82",
   "metadata": {},
   "source": [
    "Note: in the following, a couple of different datasets will be explored using scikit-learn (a.k.a sklearn) to get to know the library and familiarize myself with the use of it "
   ]
  },
  {
   "cell_type": "code",
   "execution_count": null,
   "id": "3322d571",
   "metadata": {},
   "outputs": [],
   "source": [
    "pip install scikit-learn # only needed once, if not already installed"
   ]
  },
  {
   "cell_type": "code",
   "execution_count": null,
   "id": "a5d818fe",
   "metadata": {},
   "outputs": [],
   "source": [
    "from sklearn import datasets #importing the library"
   ]
  },
  {
   "cell_type": "code",
   "execution_count": null,
   "id": "9ad21114",
   "metadata": {},
   "outputs": [],
   "source": [
    "dir(datasets)"
   ]
  },
  {
   "cell_type": "markdown",
   "id": "d56e16e1",
   "metadata": {},
   "source": [
    "Note: I have chosen the datasets 'load_breast_cancer','load_diabetes'and 'load_digits'because the first two sound like they might contain interesting medical data and the last because I have a bit of an interest in math, so choosing it felt natural."
   ]
  },
  {
   "cell_type": "code",
   "execution_count": null,
   "id": "d5a2e502",
   "metadata": {},
   "outputs": [],
   "source": [
    "breast_cancer_data = datasets.load_breast_cancer()\n",
    "diabetes_data = datasets.load_diabetes()\n",
    "digits_data = datasets.load_digits()"
   ]
  },
  {
   "cell_type": "code",
   "execution_count": null,
   "id": "a6d685a1",
   "metadata": {},
   "outputs": [],
   "source": [
    "print(breast_cancer_data.DESCR)"
   ]
  },
  {
   "cell_type": "code",
   "execution_count": null,
   "id": "c4635885",
   "metadata": {},
   "outputs": [],
   "source": [
    "breast_cancer_data.feature_names"
   ]
  },
  {
   "cell_type": "code",
   "execution_count": null,
   "id": "b4c59a09",
   "metadata": {},
   "outputs": [],
   "source": [
    "breast_cancer_data.target_names"
   ]
  },
  {
   "cell_type": "markdown",
   "id": "ced19d74",
   "metadata": {},
   "source": [
    "Note: the dataset seems to aim to differentiate between maignant and benign types of breast cancer"
   ]
  },
  {
   "cell_type": "code",
   "execution_count": null,
   "id": "e81a3fbc",
   "metadata": {},
   "outputs": [],
   "source": [
    "breast_cancer_data.keys() # showing all the available keys"
   ]
  },
  {
   "cell_type": "code",
   "execution_count": null,
   "id": "06e72fe7",
   "metadata": {},
   "outputs": [],
   "source": [
    "print(diabetes_data.DESCR)"
   ]
  },
  {
   "cell_type": "code",
   "execution_count": null,
   "id": "b8fe2413",
   "metadata": {},
   "outputs": [],
   "source": [
    "diabetes_data.keys() # exploring the keys"
   ]
  },
  {
   "cell_type": "markdown",
   "id": "a1641a74",
   "metadata": {},
   "source": [
    "Note: the keys() method shows that for the diabetes dataset, the target_names is not an available key. "
   ]
  },
  {
   "cell_type": "code",
   "execution_count": null,
   "id": "43063519",
   "metadata": {},
   "outputs": [],
   "source": [
    "diabetes_data.feature_names"
   ]
  },
  {
   "cell_type": "markdown",
   "id": "f7412edc",
   "metadata": {},
   "source": [
    "Note: the diabetes dataset seems to collect biometrical data about people, maybe for the purpose of comparing it."
   ]
  },
  {
   "cell_type": "code",
   "execution_count": null,
   "id": "0cae629f",
   "metadata": {},
   "outputs": [],
   "source": [
    "print(digits_data.DESCR)"
   ]
  },
  {
   "cell_type": "code",
   "execution_count": null,
   "id": "f3bd500b",
   "metadata": {},
   "outputs": [],
   "source": [
    "digits_data.feature_names"
   ]
  },
  {
   "cell_type": "code",
   "execution_count": null,
   "id": "f9ec02fe",
   "metadata": {},
   "outputs": [],
   "source": [
    "digits_data.target_names"
   ]
  },
  {
   "cell_type": "markdown",
   "id": "7070361a",
   "metadata": {},
   "source": [
    "Note: the digits dataset has information about the digits from zero to nine but not much more can be said from only looking at target_names. But including the information gained from exploring the key feature_names, the dataset seems to have something to do with images, since they are all named something with pixel. In conclusion the dataset might consist of images of digits."
   ]
  },
  {
   "cell_type": "markdown",
   "id": "222dc369",
   "metadata": {},
   "source": [
    "#### Task 3-4: Basic Data Exploration with Python library Pandas "
   ]
  },
  {
   "cell_type": "code",
   "execution_count": null,
   "id": "afc6fd59",
   "metadata": {},
   "outputs": [],
   "source": [
    "import pandas # importing the library"
   ]
  },
  {
   "cell_type": "code",
   "execution_count": null,
   "id": "3935902e",
   "metadata": {},
   "outputs": [],
   "source": [
    "from sklearn import datasets\n",
    "import pandas\n",
    "\n",
    "wine_data = datasets.load_wine()\n",
    "\n",
    "wine_dataframe = pandas.DataFrame(data= wine_data[\"data\"], columns=wine_data[\"feature_names\"])"
   ]
  },
  {
   "cell_type": "code",
   "execution_count": null,
   "id": "56b8ae0c",
   "metadata": {},
   "outputs": [],
   "source": [
    "wine_dataframe.head()"
   ]
  },
  {
   "cell_type": "code",
   "execution_count": null,
   "id": "7d02ca8e",
   "metadata": {},
   "outputs": [],
   "source": [
    "wine_dataframe.describe()"
   ]
  },
  {
   "cell_type": "markdown",
   "id": "b8f8b826",
   "metadata": {},
   "source": [
    "Note: the head command prints out the first five rows of the dataframe. One thing that is intersting to see is that the numbering of the rows is starting with zero and not with a one. The describe command is giving information about the data in the dataset in numbers."
   ]
  },
  {
   "cell_type": "markdown",
   "id": "10653f98",
   "metadata": {},
   "source": [
    "#### Task 3-5: Thinking about data bias"
   ]
  },
  {
   "cell_type": "markdown",
   "id": "4cfda61f",
   "metadata": {},
   "source": [
    "I would first try to figure out who made the dataset and when it was made. Furhtermore, any information available on how the data was collected, would be interesting, since bias can already come into the data in the collection process. Afterwards I would have a close look at the categories included in the dataset, for example wether things have been left out or wether there is a focus on a specific aspect. This is targeting bias that might have come in during the interpretation of the data. Furthermore, if possible I would try to verify some of the data. This might not always be possible, but if it is it might be a good test to randomly choose some datapoints and try to verify them, to see wether falsification occured, that might later bias my results. "
   ]
  }
 ],
 "metadata": {
  "kernelspec": {
   "display_name": "Python 3 (ipykernel)",
   "language": "python",
   "name": "python3"
  },
  "language_info": {
   "codemirror_mode": {
    "name": "ipython",
    "version": 3
   },
   "file_extension": ".py",
   "mimetype": "text/x-python",
   "name": "python",
   "nbconvert_exporter": "python",
   "pygments_lexer": "ipython3",
   "version": "3.11.3"
  }
 },
 "nbformat": 4,
 "nbformat_minor": 5
}
