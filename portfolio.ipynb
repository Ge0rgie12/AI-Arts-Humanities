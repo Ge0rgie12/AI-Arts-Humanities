{
 "cells": [
  {
   "cell_type": "markdown",
   "id": "6b56f884",
   "metadata": {},
   "source": [
    "\"Week 1: Getting started with Anaconda, Jupyter Notebook and Python\"\n",
    "\n",
    "a) Why you chose to join this course – for, motivation, vision, aspiration?\n",
    "Since starting with programming about two years ago, I have been interested in lots of things to do with programming, but especially AI. AI is becoming more and more important in everyday life and lots of discussions are being held about it. While having tried out some applications myself, for example ChatGPT and Midjourney, I am interested to learn how AIs really work and how the technology behind them functions. Furthermore, I have already taken a seminar on AI in general and would like to broaded my knowledge on the topic. Additionally I think especially for the creative sector, AI is a bringin on quite some changes, which is why I chose to take this seminar. \n",
    "\n",
    "b) Prior experience, if any, you have with AI and/or Python, and, \n",
    "I have dabbled in AI, as previously mentioned, and have some experience in programming with Python. \n",
    "\n",
    "c) What you expect to learn from the course (aim for 3-5 bullet points)\n",
    "- a broader knowledge about AI\n",
    "- a better understanding for the role of AI in the creative sector\n",
    "- increase my coding skills in python\n",
    "\n",
    "Notebook cheatsheet: https://www.ibm.com/docs/en/watson-studio-local/1.2.3?topic=notebooks-markdown-jupyter-cheatsheet"
   ]
  },
  {
   "cell_type": "code",
   "execution_count": 3,
   "id": "0817b8d9",
   "metadata": {},
   "outputs": [
    {
     "name": "stdout",
     "output_type": "stream",
     "text": [
      "Hello, World!\n",
      "Hello, World!\n"
     ]
    }
   ],
   "source": [
    "# Task 4\n",
    "\n",
    "print(\"Hello, World!\")\n",
    "\n",
    "# use variables:\n",
    "\n",
    "message = \"Hello, World!\"\n",
    "print(message)"
   ]
  },
  {
   "cell_type": "code",
   "execution_count": 5,
   "id": "a323d0b1",
   "metadata": {},
   "outputs": [
    {
     "name": "stdout",
     "output_type": "stream",
     "text": [
      "Welcome to my portfolio\n",
      "Welcome to my portfolioWelcome to my portfolio\n",
      "Welcome to my portfolioWelcome to my portfolioWelcome to my portfolio\n",
      "W\n"
     ]
    }
   ],
   "source": [
    "# Task 5\n",
    "\n",
    "message1 = \"Welcome to my portfolio\"\n",
    "print(message1)\n",
    "\n",
    "print(message1+message1) # --> it adds the message a second time (with no space in between)\n",
    "\n",
    "print(message1*3) # --> it prints the message three times (again with now spaces)\n",
    "\n",
    "print(message1[0]) # --> it prints the first letter; changing the number changes the letter --> 1 is the second letter, 2 the third and so on "
   ]
  },
  {
   "cell_type": "code",
   "execution_count": 6,
   "id": "11e41770",
   "metadata": {},
   "outputs": [],
   "source": [
    "# Task 6\n",
    "\n",
    "from IPython.display import*\n"
   ]
  },
  {
   "cell_type": "code",
   "execution_count": 9,
   "id": "643d22d0",
   "metadata": {},
   "outputs": [
    {
     "data": {
      "text/html": [
       "\n",
       "        <iframe\n",
       "            width=\"400\"\n",
       "            height=\"300\"\n",
       "            src=\"https://www.youtube.com/embed/CahOLfYxiq0?\"\n",
       "            frameborder=\"0\"\n",
       "            allowfullscreen\n",
       "            \n",
       "        ></iframe>\n",
       "        "
      ],
      "text/plain": [
       "<IPython.lib.display.YouTubeVideo at 0x10c9d6450>"
      ]
     },
     "execution_count": 9,
     "metadata": {},
     "output_type": "execute_result"
    }
   ],
   "source": [
    "# Task 7\n",
    "\n",
    "YouTubeVideo(\"CahOLfYxiq0?\")"
   ]
  },
  {
   "cell_type": "code",
   "execution_count": null,
   "id": "a7239363",
   "metadata": {},
   "outputs": [],
   "source": [
    "# Task: 8 + 9 (optional)\n",
    "\n",
    "import webbrowser  # imports a library\n",
    "import requests # imports a library\n",
    "\n",
    "print(\"Shall we hunt down an old website?\") # print out a statement\n",
    "site = input(\"Type a website URL: \") # assigning a variable; ask for user input in form of a website URL\n",
    "era = input(\"Type year, month, and date, e.g., 20150613: \") # assigning a variable; ask for user input in form of an era \n",
    "url = \"http://archive.org/wayback/available?url=%s&timestamp=%s\" % (site, era) # assigning a variable\n",
    "response = requests.get(url) # assigning a variable;\n",
    "data = response.json() # assigning a variable;\n",
    "try: # conditional \n",
    "    old_site = data[\"archived_snapshots\"][\"closest\"][\"url\"] # assigning a variable;\n",
    "    print(\"Found this copy: \", old_site) # print out a statement\n",
    "    print(\"It should appear in your browser.\") # print out a statement\n",
    "    webbrowser.open(old_site) # open website\n",
    "except: # exception of try not possible \n",
    "    print(\"Sorry, could not find the site.\") # print out a statement\n"
   ]
  },
  {
   "cell_type": "code",
   "execution_count": null,
   "id": "18d0f0fd",
   "metadata": {},
   "outputs": [],
   "source": []
  },
  {
   "cell_type": "code",
   "execution_count": null,
   "id": "e9d57755",
   "metadata": {},
   "outputs": [],
   "source": []
  }
 ],
 "metadata": {
  "kernelspec": {
   "display_name": "Python 3 (ipykernel)",
   "language": "python",
   "name": "python3"
  },
  "language_info": {
   "codemirror_mode": {
    "name": "ipython",
    "version": 3
   },
   "file_extension": ".py",
   "mimetype": "text/x-python",
   "name": "python",
   "nbconvert_exporter": "python",
   "pygments_lexer": "ipython3",
   "version": "3.11.3"
  }
 },
 "nbformat": 4,
 "nbformat_minor": 5
}
